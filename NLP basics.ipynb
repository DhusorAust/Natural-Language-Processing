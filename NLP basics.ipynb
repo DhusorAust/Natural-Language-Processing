{
 "cells": [
  {
   "cell_type": "code",
   "execution_count": 37,
   "metadata": {},
   "outputs": [],
   "source": [
    "import nltk\n"
   ]
  },
  {
   "cell_type": "code",
   "execution_count": 38,
   "metadata": {},
   "outputs": [],
   "source": [
    "from nltk.tokenize import sent_tokenize,word_tokenize"
   ]
  },
  {
   "cell_type": "code",
   "execution_count": 39,
   "metadata": {},
   "outputs": [],
   "source": [
    "ex_text=\"Hello Mr. Dhusor,how are you doing? The weather is great.\""
   ]
  },
  {
   "cell_type": "code",
   "execution_count": 40,
   "metadata": {},
   "outputs": [
    {
     "name": "stdout",
     "output_type": "stream",
     "text": [
      "['Hello', 'Mr.', 'Dhusor', ',', 'how', 'are', 'you', 'doing', '?', 'The', 'weather', 'is', 'great', '.']\n"
     ]
    }
   ],
   "source": [
    "print(word_tokenize(ex_text))"
   ]
  },
  {
   "cell_type": "code",
   "execution_count": 41,
   "metadata": {},
   "outputs": [],
   "source": [
    "paragraph = \"\"\"I have three visions for India. In 3000 years of our history, people from all over \n",
    "               the world have come and invaded us, captured our lands, conquered our minds. \n",
    "               From Alexander onwards, the Greeks, the Turks, the Moguls, the Portuguese, the British,\n",
    "               the French, the Dutch, all of them came and looted us, took over what was ours. \n",
    "               Yet we have not done this to any other nation. We have not conquered anyone. \n",
    "               We have not grabbed their land, their culture, \n",
    "               their history and tried to enforce our way of life on them. \n",
    "               Why? Because we respect the freedom of others.That is why my \n",
    "               first vision is that of freedom. I believe that India got its first vision of \n",
    "               this in 1857, when we started the War of Independence. It is this freedom that\n",
    "               we must protect and nurture and build on. If we are not free, no one will respect us.\n",
    "               My second vision for India’s development. For fifty years we have been a developing nation.\n",
    "               It is time we see ourselves as a developed nation. We are among the top 5 nations of the world\n",
    "               in terms of GDP. We have a 10 percent growth rate in most areas. Our poverty levels are falling.\n",
    "               Our achievements are being globally recognised today. Yet we lack the self-confidence to\n",
    "               see ourselves as a developed nation, self-reliant and self-assured. Isn’t this incorrect?\n",
    "               I have a third vision. India must stand up to the world. Because I believe that unless India \n",
    "               stands up to the world, no one will respect us. Only strength respects strength. We must be \n",
    "               strong not only as a military power but also as an economic power. Both must go hand-in-hand. \n",
    "               My good fortune was to have worked with three great minds. Dr. Vikram Sarabhai of the Dept. of \n",
    "               space, Professor Satish Dhawan, who succeeded him and Dr. Brahm Prakash, father of nuclear material.\n",
    "               I was lucky to have worked with all three of them closely and consider this the great opportunity of my life. \n",
    "               I see four milestones in my career\"\"\"\n",
    "               "
   ]
  },
  {
   "cell_type": "code",
   "execution_count": 42,
   "metadata": {},
   "outputs": [],
   "source": [
    "sentances=sent_tokenize(paragraph)"
   ]
  },
  {
   "cell_type": "code",
   "execution_count": 43,
   "metadata": {},
   "outputs": [
    {
     "name": "stdout",
     "output_type": "stream",
     "text": [
      "['I have three visions for India.', 'In 3000 years of our history, people from all over \\n               the world have come and invaded us, captured our lands, conquered our minds.', 'From Alexander onwards, the Greeks, the Turks, the Moguls, the Portuguese, the British,\\n               the French, the Dutch, all of them came and looted us, took over what was ours.', 'Yet we have not done this to any other nation.', 'We have not conquered anyone.', 'We have not grabbed their land, their culture, \\n               their history and tried to enforce our way of life on them.', 'Why?', 'Because we respect the freedom of others.That is why my \\n               first vision is that of freedom.', 'I believe that India got its first vision of \\n               this in 1857, when we started the War of Independence.', 'It is this freedom that\\n               we must protect and nurture and build on.', 'If we are not free, no one will respect us.', 'My second vision for India’s development.', 'For fifty years we have been a developing nation.', 'It is time we see ourselves as a developed nation.', 'We are among the top 5 nations of the world\\n               in terms of GDP.', 'We have a 10 percent growth rate in most areas.', 'Our poverty levels are falling.', 'Our achievements are being globally recognised today.', 'Yet we lack the self-confidence to\\n               see ourselves as a developed nation, self-reliant and self-assured.', 'Isn’t this incorrect?', 'I have a third vision.', 'India must stand up to the world.', 'Because I believe that unless India \\n               stands up to the world, no one will respect us.', 'Only strength respects strength.', 'We must be \\n               strong not only as a military power but also as an economic power.', 'Both must go hand-in-hand.', 'My good fortune was to have worked with three great minds.', 'Dr. Vikram Sarabhai of the Dept.', 'of \\n               space, Professor Satish Dhawan, who succeeded him and Dr. Brahm Prakash, father of nuclear material.', 'I was lucky to have worked with all three of them closely and consider this the great opportunity of my life.', 'I see four milestones in my career']\n"
     ]
    }
   ],
   "source": [
    "print(sentances)"
   ]
  },
  {
   "cell_type": "code",
   "execution_count": 44,
   "metadata": {},
   "outputs": [],
   "source": [
    "words=word_tokenize(paragraph)"
   ]
  },
  {
   "cell_type": "markdown",
   "metadata": {},
   "source": [
    "# stop words"
   ]
  },
  {
   "cell_type": "code",
   "execution_count": 45,
   "metadata": {},
   "outputs": [],
   "source": [
    "from nltk.corpus import stopwords"
   ]
  },
  {
   "cell_type": "code",
   "execution_count": 46,
   "metadata": {},
   "outputs": [],
   "source": [
    "sw=set(stopwords.words(\"english\"))"
   ]
  },
  {
   "cell_type": "code",
   "execution_count": 48,
   "metadata": {},
   "outputs": [],
   "source": [
    "sentances=sent_tokenize(paragraph)\n",
    "words=word_tokenize(paragraph.lower())\n",
    "sw_sentences=''\n",
    "for w in words:\n",
    "    if w not in sw:\n",
    "        sw_sentences+=' '+w\n",
    "        \n",
    "        "
   ]
  },
  {
   "cell_type": "code",
   "execution_count": 49,
   "metadata": {},
   "outputs": [
    {
     "data": {
      "text/plain": [
       "' three visions india . 3000 years history , people world come invaded us , captured lands , conquered minds . alexander onwards , greeks , turks , moguls , portuguese , british , french , dutch , came looted us , took . yet done nation . conquered anyone . grabbed land , culture , history tried enforce way life . ? respect freedom others.that first vision freedom . believe india got first vision 1857 , started war independence . freedom must protect nurture build . free , one respect us . second vision india ’ development . fifty years developing nation . time see developed nation . among top 5 nations world terms gdp . 10 percent growth rate areas . poverty levels falling . achievements globally recognised today . yet lack self-confidence see developed nation , self-reliant self-assured . ’ incorrect ? third vision . india must stand world . believe unless india stands world , one respect us . strength respects strength . must strong military power also economic power . must go hand-in-hand . good fortune worked three great minds . dr. vikram sarabhai dept . space , professor satish dhawan , succeeded dr. brahm prakash , father nuclear material . lucky worked three closely consider great opportunity life . see four milestones career'"
      ]
     },
     "execution_count": 49,
     "metadata": {},
     "output_type": "execute_result"
    }
   ],
   "source": [
    "sw_sentences"
   ]
  },
  {
   "cell_type": "markdown",
   "metadata": {},
   "source": [
    "# Stemming"
   ]
  },
  {
   "cell_type": "code",
   "execution_count": 50,
   "metadata": {},
   "outputs": [],
   "source": [
    "from nltk.stem import PorterStemmer"
   ]
  },
  {
   "cell_type": "code",
   "execution_count": 51,
   "metadata": {},
   "outputs": [],
   "source": [
    "ps=PorterStemmer()"
   ]
  },
  {
   "cell_type": "code",
   "execution_count": 52,
   "metadata": {},
   "outputs": [],
   "source": [
    "sw_words=word_tokenize(sw_sentences)\n",
    "\n",
    "sw_stem_sentences=''\n",
    "\n",
    "for w in sw_words:\n",
    "    sw_stem_sentences+=' '+ps.stem(w)\n",
    "    "
   ]
  },
  {
   "cell_type": "code",
   "execution_count": 53,
   "metadata": {},
   "outputs": [
    {
     "data": {
      "text/plain": [
       "' three vision india . 3000 year histori , peopl world come invad us , captur land , conquer mind . alexand onward , greek , turk , mogul , portugues , british , french , dutch , came loot us , took . yet done nation . conquer anyon . grab land , cultur , histori tri enforc way life . ? respect freedom others.that first vision freedom . believ india got first vision 1857 , start war independ . freedom must protect nurtur build . free , one respect us . second vision india ’ develop . fifti year develop nation . time see develop nation . among top 5 nation world term gdp . 10 percent growth rate area . poverti level fall . achiev global recognis today . yet lack self-confid see develop nation , self-reli self-assur . ’ incorrect ? third vision . india must stand world . believ unless india stand world , one respect us . strength respect strength . must strong militari power also econom power . must go hand-in-hand . good fortun work three great mind . dr. vikram sarabhai dept . space , professor satish dhawan , succeed dr. brahm prakash , father nuclear materi . lucki work three close consid great opportun life . see four mileston career'"
      ]
     },
     "execution_count": 53,
     "metadata": {},
     "output_type": "execute_result"
    }
   ],
   "source": [
    "sw_stem_sentences"
   ]
  },
  {
   "cell_type": "markdown",
   "metadata": {},
   "source": [
    "# Lemmatization"
   ]
  },
  {
   "cell_type": "code",
   "execution_count": 54,
   "metadata": {},
   "outputs": [],
   "source": [
    "from nltk.stem import WordNetLemmatizer"
   ]
  },
  {
   "cell_type": "code",
   "execution_count": 55,
   "metadata": {},
   "outputs": [],
   "source": [
    "lemmatizer = WordNetLemmatizer()"
   ]
  },
  {
   "cell_type": "code",
   "execution_count": 56,
   "metadata": {},
   "outputs": [],
   "source": [
    "sw_words=word_tokenize(sw_sentences)\n",
    "\n",
    "sw_lemmatize_sentences=''\n",
    "\n",
    "for w in sw_words:\n",
    "    sw_lemmatize_sentences+=' '+lemmatizer.lemmatize(w)\n",
    "    "
   ]
  },
  {
   "cell_type": "code",
   "execution_count": 57,
   "metadata": {},
   "outputs": [
    {
     "data": {
      "text/plain": [
       "' three vision india . 3000 year history , people world come invaded u , captured land , conquered mind . alexander onwards , greek , turk , mogul , portuguese , british , french , dutch , came looted u , took . yet done nation . conquered anyone . grabbed land , culture , history tried enforce way life . ? respect freedom others.that first vision freedom . believe india got first vision 1857 , started war independence . freedom must protect nurture build . free , one respect u . second vision india ’ development . fifty year developing nation . time see developed nation . among top 5 nation world term gdp . 10 percent growth rate area . poverty level falling . achievement globally recognised today . yet lack self-confidence see developed nation , self-reliant self-assured . ’ incorrect ? third vision . india must stand world . believe unless india stand world , one respect u . strength respect strength . must strong military power also economic power . must go hand-in-hand . good fortune worked three great mind . dr. vikram sarabhai dept . space , professor satish dhawan , succeeded dr. brahm prakash , father nuclear material . lucky worked three closely consider great opportunity life . see four milestone career'"
      ]
     },
     "execution_count": 57,
     "metadata": {},
     "output_type": "execute_result"
    }
   ],
   "source": [
    "sw_lemmatize_sentences"
   ]
  },
  {
   "cell_type": "markdown",
   "metadata": {},
   "source": [
    "# Remove all the things except a-z&A-Z"
   ]
  },
  {
   "cell_type": "code",
   "execution_count": 62,
   "metadata": {},
   "outputs": [],
   "source": [
    "import re\n",
    "clean_sent=re.sub('[^a-zA-Z)]',' ',sw_lemmatize_sentences)\n"
   ]
  },
  {
   "cell_type": "code",
   "execution_count": 63,
   "metadata": {},
   "outputs": [
    {
     "data": {
      "text/plain": [
       "' three vision india        year history   people world come invaded u   captured land   conquered mind   alexander onwards   greek   turk   mogul   portuguese   british   french   dutch   came looted u   took   yet done nation   conquered anyone   grabbed land   culture   history tried enforce way life     respect freedom others that first vision freedom   believe india got first vision        started war independence   freedom must protect nurture build   free   one respect u   second vision india   development   fifty year developing nation   time see developed nation   among top   nation world term gdp      percent growth rate area   poverty level falling   achievement globally recognised today   yet lack self confidence see developed nation   self reliant self assured     incorrect   third vision   india must stand world   believe unless india stand world   one respect u   strength respect strength   must strong military power also economic power   must go hand in hand   good fortune worked three great mind   dr  vikram sarabhai dept   space   professor satish dhawan   succeeded dr  brahm prakash   father nuclear material   lucky worked three closely consider great opportunity life   see four milestone career'"
      ]
     },
     "execution_count": 63,
     "metadata": {},
     "output_type": "execute_result"
    }
   ],
   "source": [
    "clean_sent"
   ]
  }
 ],
 "metadata": {
  "kernelspec": {
   "display_name": "Python 3",
   "language": "python",
   "name": "python3"
  },
  "language_info": {
   "codemirror_mode": {
    "name": "ipython",
    "version": 3
   },
   "file_extension": ".py",
   "mimetype": "text/x-python",
   "name": "python",
   "nbconvert_exporter": "python",
   "pygments_lexer": "ipython3",
   "version": "3.8.1"
  }
 },
 "nbformat": 4,
 "nbformat_minor": 4
}
